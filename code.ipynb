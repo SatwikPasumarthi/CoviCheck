{
 "cells": [
  {
   "cell_type": "code",
   "execution_count": 1,
   "id": "727b2129",
   "metadata": {},
   "outputs": [],
   "source": [
    "data_path=\"C:\\\\Users\\\\pasum\\\\OneDrive\\\\Desktop\\\\hack\\\\IMAGES\"\n"
   ]
  },
  {
   "cell_type": "code",
   "execution_count": 2,
   "id": "0d4e0a78",
   "metadata": {},
   "outputs": [],
   "source": [
    "import os"
   ]
  },
  {
   "cell_type": "code",
   "execution_count": 3,
   "id": "10004fa5",
   "metadata": {},
   "outputs": [],
   "source": [
    "categories=[\"CT_COVID\",\"CT_NonCOVID\"]\n",
    "label_dict={\"CT_COVID\":0,\"CT_NonCOVID\":1}"
   ]
  },
  {
   "cell_type": "code",
   "execution_count": 4,
   "id": "5bdd733c",
   "metadata": {},
   "outputs": [],
   "source": [
    "data=[]\n",
    "target=[]"
   ]
  },
  {
   "cell_type": "code",
   "execution_count": 5,
   "id": "63221d53",
   "metadata": {},
   "outputs": [],
   "source": [
    "import cv2"
   ]
  },
  {
   "cell_type": "code",
   "execution_count": 6,
   "id": "61e11901",
   "metadata": {},
   "outputs": [
    {
     "name": "stdout",
     "output_type": "stream",
     "text": [
      "[INFO] loading images of category CT_COVID...\n",
      "[INFO] loading images of category CT_NonCOVID...\n",
      "Fetching data completed........\n"
     ]
    }
   ],
   "source": [
    "for category in categories:\n",
    "    folder_path=os.path.join(data_path,category)\n",
    "    img_names=os.listdir(folder_path)\n",
    "    \n",
    "    print(f'[INFO] loading images of category {category}...')\n",
    "    for img_name in img_names:\n",
    "        img_path=os.path.join(folder_path,img_name)\n",
    "        try:\n",
    "            img=cv2.imread(img_path)  \n",
    "            gray=cv2.cvtColor(img,cv2.COLOR_BGR2GRAY)\n",
    "            resized=cv2.resize(gray,(100,100))\n",
    "            data.append(resized)\n",
    "            target.append(label_dict[category])\n",
    "        except:\n",
    "            pass\n",
    "print(\"Fetching data completed........\")"
   ]
  },
  {
   "cell_type": "code",
   "execution_count": 7,
   "id": "db68a5bc",
   "metadata": {},
   "outputs": [],
   "source": [
    "import numpy as np"
   ]
  },
  {
   "cell_type": "code",
   "execution_count": 8,
   "id": "f074af8f",
   "metadata": {},
   "outputs": [],
   "source": [
    "data=np.array(data)\n",
    "data=data/255"
   ]
  },
  {
   "cell_type": "code",
   "execution_count": 10,
   "id": "42d8942e",
   "metadata": {},
   "outputs": [
    {
     "data": {
      "text/plain": [
       "(746, 100, 100)"
      ]
     },
     "execution_count": 10,
     "metadata": {},
     "output_type": "execute_result"
    }
   ],
   "source": [
    "data.shape"
   ]
  },
  {
   "cell_type": "code",
   "execution_count": 11,
   "id": "921f5fd7",
   "metadata": {},
   "outputs": [],
   "source": [
    "data=np.reshape(data,(746,100,100,1))"
   ]
  },
  {
   "cell_type": "code",
   "execution_count": 12,
   "id": "d1ab4dc3",
   "metadata": {},
   "outputs": [
    {
     "data": {
      "text/plain": [
       "(746, 100, 100, 1)"
      ]
     },
     "execution_count": 12,
     "metadata": {},
     "output_type": "execute_result"
    }
   ],
   "source": [
    "data.shape"
   ]
  },
  {
   "cell_type": "code",
   "execution_count": 13,
   "id": "7cbf1f2f",
   "metadata": {},
   "outputs": [],
   "source": [
    "target=np.array(target)"
   ]
  },
  {
   "cell_type": "code",
   "execution_count": 14,
   "id": "64bc4b72",
   "metadata": {},
   "outputs": [
    {
     "data": {
      "text/plain": [
       "(746,)"
      ]
     },
     "execution_count": 14,
     "metadata": {},
     "output_type": "execute_result"
    }
   ],
   "source": [
    "target.shape"
   ]
  },
  {
   "cell_type": "code",
   "execution_count": 15,
   "id": "59812d25",
   "metadata": {},
   "outputs": [],
   "source": [
    "from keras.utils import np_utils\n",
    "new_target=np_utils.to_categorical(target)"
   ]
  },
  {
   "cell_type": "code",
   "execution_count": 16,
   "id": "4a094b9c",
   "metadata": {},
   "outputs": [
    {
     "data": {
      "text/plain": [
       "(746, 2)"
      ]
     },
     "execution_count": 16,
     "metadata": {},
     "output_type": "execute_result"
    }
   ],
   "source": [
    "new_target.shape"
   ]
  },
  {
   "cell_type": "code",
   "execution_count": 17,
   "id": "3d23213a",
   "metadata": {},
   "outputs": [],
   "source": [
    "from keras.layers import Dense,Flatten,Dropout,Conv2D,MaxPooling2D\n",
    "from keras.models import Sequential"
   ]
  },
  {
   "cell_type": "code",
   "execution_count": 18,
   "id": "766d4ede",
   "metadata": {},
   "outputs": [],
   "source": [
    "model=Sequential()\n",
    "model.add(Conv2D(32,(3,3),input_shape=(100,100,1),activation=\"relu\"))\n",
    "model.add(Conv2D(64,(3,3),activation=\"relu\"))\n",
    "model.add(Dropout(0.25))\n",
    "model.add(MaxPooling2D((2,2)))\n",
    "\n",
    "model.add(Conv2D(64,(3,3),activation=\"relu\"))\n",
    "model.add(Dropout(0.25))\n",
    "model.add(MaxPooling2D((2,2)))\n",
    "\n",
    "model.add(Conv2D(128,(3,3),activation=\"relu\"))\n",
    "model.add(Dropout(0.25))\n",
    "model.add(MaxPooling2D((2,2)))\n",
    "\n",
    "model.add(Flatten())\n",
    "model.add(Dropout(0.5))\n",
    "model.add(Dense(128,activation=\"relu\"))\n",
    "model.add(Dense(64,activation=\"relu\"))\n",
    "model.add(Dense(32,activation=\"relu\"))\n",
    "model.add(Dense(2,activation=\"softmax\"))"
   ]
  },
  {
   "cell_type": "code",
   "execution_count": 19,
   "id": "78622aa6",
   "metadata": {},
   "outputs": [
    {
     "name": "stdout",
     "output_type": "stream",
     "text": [
      "Model: \"sequential\"\n",
      "_________________________________________________________________\n",
      "Layer (type)                 Output Shape              Param #   \n",
      "=================================================================\n",
      "conv2d (Conv2D)              (None, 98, 98, 32)        320       \n",
      "_________________________________________________________________\n",
      "conv2d_1 (Conv2D)            (None, 96, 96, 64)        18496     \n",
      "_________________________________________________________________\n",
      "dropout (Dropout)            (None, 96, 96, 64)        0         \n",
      "_________________________________________________________________\n",
      "max_pooling2d (MaxPooling2D) (None, 48, 48, 64)        0         \n",
      "_________________________________________________________________\n",
      "conv2d_2 (Conv2D)            (None, 46, 46, 64)        36928     \n",
      "_________________________________________________________________\n",
      "dropout_1 (Dropout)          (None, 46, 46, 64)        0         \n",
      "_________________________________________________________________\n",
      "max_pooling2d_1 (MaxPooling2 (None, 23, 23, 64)        0         \n",
      "_________________________________________________________________\n",
      "conv2d_3 (Conv2D)            (None, 21, 21, 128)       73856     \n",
      "_________________________________________________________________\n",
      "dropout_2 (Dropout)          (None, 21, 21, 128)       0         \n",
      "_________________________________________________________________\n",
      "max_pooling2d_2 (MaxPooling2 (None, 10, 10, 128)       0         \n",
      "_________________________________________________________________\n",
      "flatten (Flatten)            (None, 12800)             0         \n",
      "_________________________________________________________________\n",
      "dropout_3 (Dropout)          (None, 12800)             0         \n",
      "_________________________________________________________________\n",
      "dense (Dense)                (None, 128)               1638528   \n",
      "_________________________________________________________________\n",
      "dense_1 (Dense)              (None, 64)                8256      \n",
      "_________________________________________________________________\n",
      "dense_2 (Dense)              (None, 32)                2080      \n",
      "_________________________________________________________________\n",
      "dense_3 (Dense)              (None, 2)                 66        \n",
      "=================================================================\n",
      "Total params: 1,778,530\n",
      "Trainable params: 1,778,530\n",
      "Non-trainable params: 0\n",
      "_________________________________________________________________\n"
     ]
    }
   ],
   "source": [
    "model.summary()"
   ]
  },
  {
   "cell_type": "code",
   "execution_count": 20,
   "id": "8b8f3d88",
   "metadata": {},
   "outputs": [],
   "source": [
    "\n",
    "model.compile(loss=\"binary_crossentropy\",optimizer=\"adam\",metrics=[\"accuracy\"])"
   ]
  },
  {
   "cell_type": "code",
   "execution_count": 21,
   "id": "0f995021",
   "metadata": {},
   "outputs": [
    {
     "name": "stdout",
     "output_type": "stream",
     "text": [
      "Epoch 1/20\n",
      "24/24 [==============================] - 14s 576ms/step - loss: 0.7133 - accuracy: 0.5147\n",
      "Epoch 2/20\n",
      "24/24 [==============================] - 13s 555ms/step - loss: 0.6758 - accuracy: 0.5818\n",
      "Epoch 3/20\n",
      "24/24 [==============================] - 14s 570ms/step - loss: 0.6477 - accuracy: 0.6233\n",
      "Epoch 4/20\n",
      "24/24 [==============================] - 14s 566ms/step - loss: 0.5924 - accuracy: 0.6501\n",
      "Epoch 5/20\n",
      "24/24 [==============================] - 14s 580ms/step - loss: 0.5738 - accuracy: 0.6903\n",
      "Epoch 6/20\n",
      "24/24 [==============================] - 14s 566ms/step - loss: 0.5404 - accuracy: 0.7091\n",
      "Epoch 7/20\n",
      "24/24 [==============================] - 14s 571ms/step - loss: 0.4779 - accuracy: 0.7480\n",
      "Epoch 8/20\n",
      "24/24 [==============================] - 14s 568ms/step - loss: 0.4580 - accuracy: 0.7694\n",
      "Epoch 9/20\n",
      "24/24 [==============================] - 14s 563ms/step - loss: 0.4352 - accuracy: 0.7936\n",
      "Epoch 10/20\n",
      "24/24 [==============================] - 13s 558ms/step - loss: 0.4077 - accuracy: 0.8150\n",
      "Epoch 11/20\n",
      "24/24 [==============================] - 13s 555ms/step - loss: 0.3707 - accuracy: 0.8271\n",
      "Epoch 12/20\n",
      "24/24 [==============================] - 13s 559ms/step - loss: 0.3773 - accuracy: 0.8311\n",
      "Epoch 13/20\n",
      "24/24 [==============================] - 14s 567ms/step - loss: 0.2996 - accuracy: 0.8633\n",
      "Epoch 14/20\n",
      "24/24 [==============================] - 14s 572ms/step - loss: 0.3089 - accuracy: 0.8552\n",
      "Epoch 15/20\n",
      "24/24 [==============================] - 14s 586ms/step - loss: 0.2826 - accuracy: 0.8753\n",
      "Epoch 16/20\n",
      "24/24 [==============================] - 14s 574ms/step - loss: 0.2777 - accuracy: 0.8753\n",
      "Epoch 17/20\n",
      "24/24 [==============================] - 14s 569ms/step - loss: 0.2938 - accuracy: 0.8700\n",
      "Epoch 18/20\n",
      "24/24 [==============================] - 14s 567ms/step - loss: 0.2293 - accuracy: 0.9008\n",
      "Epoch 19/20\n",
      "24/24 [==============================] - 13s 561ms/step - loss: 0.2224 - accuracy: 0.9115\n",
      "Epoch 20/20\n",
      "24/24 [==============================] - 14s 568ms/step - loss: 0.1971 - accuracy: 0.9102\n"
     ]
    },
    {
     "data": {
      "text/plain": [
       "<tensorflow.python.keras.callbacks.History at 0x27bab9a3b50>"
      ]
     },
     "execution_count": 21,
     "metadata": {},
     "output_type": "execute_result"
    }
   ],
   "source": [
    "model.fit(data,new_target,epochs=20)"
   ]
  },
  {
   "cell_type": "code",
   "execution_count": 22,
   "id": "55e0c393",
   "metadata": {},
   "outputs": [],
   "source": [
    "import joblib"
   ]
  },
  {
   "cell_type": "code",
   "execution_count": 24,
   "id": "0f7ee6f0",
   "metadata": {},
   "outputs": [],
   "source": [
    "# joblib.dump(model, \"cov_model.pkl\")"
   ]
  },
  {
   "cell_type": "code",
   "execution_count": 25,
   "id": "6b57109b",
   "metadata": {},
   "outputs": [],
   "source": [
    "# Saving the model \n",
    "model_json = model.to_json()\n",
    "with open(\"cov_model.json\", \"w\") as json_file:\n",
    "    json_file.write(model_json)\n",
    "# serialize weights to HDF5\n",
    "model.save_weights(\"Cov_model.h5\")"
   ]
  },
  {
   "cell_type": "code",
   "execution_count": 46,
   "id": "9e68074f",
   "metadata": {},
   "outputs": [],
   "source": [
    "import cv2\n",
    "Img=cv2.imread('C:\\\\Users\\\\pasum\\\\OneDrive\\\\Desktop\\\\hack\\\\testingImages\\\\positive2.png')    "
   ]
  },
  {
   "cell_type": "code",
   "execution_count": 47,
   "id": "12936cb0",
   "metadata": {},
   "outputs": [],
   "source": [
    "# from skimage import io\n",
    "\n",
    "# image = io.imread('C:\\\\Users\\\\pasum\\\\OneDrive\\\\Desktop\\\\hack\\\\testingImages\\\\positive2.png')"
   ]
  },
  {
   "cell_type": "code",
   "execution_count": 56,
   "id": "71b75632",
   "metadata": {},
   "outputs": [
    {
     "data": {
      "text/plain": [
       "array([[[ 82,  82,  82],\n",
       "        [ 82,  82,  82],\n",
       "        [ 74,  74,  74],\n",
       "        ...,\n",
       "        [ 74,  74,  74],\n",
       "        [ 57,  57,  57],\n",
       "        [139, 139, 139]],\n",
       "\n",
       "       [[ 74,  74,  74],\n",
       "        [ 74,  74,  74],\n",
       "        [ 65,  65,  65],\n",
       "        ...,\n",
       "        [ 57,  57,  57],\n",
       "        [ 57,  57,  57],\n",
       "        [139, 139, 139]],\n",
       "\n",
       "       [[ 65,  65,  65],\n",
       "        [ 65,  65,  65],\n",
       "        [ 74,  74,  74],\n",
       "        ...,\n",
       "        [ 65,  65,  65],\n",
       "        [ 49,  49,  49],\n",
       "        [139, 139, 139]],\n",
       "\n",
       "       ...,\n",
       "\n",
       "       [[ 98,  98,  98],\n",
       "        [ 82,  82,  82],\n",
       "        [ 82,  82,  82],\n",
       "        ...,\n",
       "        [ 65,  65,  65],\n",
       "        [ 65,  65,  65],\n",
       "        [148, 148, 148]],\n",
       "\n",
       "       [[ 90,  90,  90],\n",
       "        [ 82,  82,  82],\n",
       "        [ 82,  90,  82],\n",
       "        ...,\n",
       "        [ 74,  74,  74],\n",
       "        [ 57,  57,  57],\n",
       "        [139, 139, 139]],\n",
       "\n",
       "       [[180, 180, 180],\n",
       "        [180, 180, 180],\n",
       "        [180, 180, 180],\n",
       "        ...,\n",
       "        [172, 172, 172],\n",
       "        [172, 164, 164],\n",
       "        [205, 205, 205]]], dtype=uint8)"
      ]
     },
     "execution_count": 56,
     "metadata": {},
     "output_type": "execute_result"
    }
   ],
   "source": [
    "Img"
   ]
  },
  {
   "cell_type": "code",
   "execution_count": 52,
   "id": "d1de05b5",
   "metadata": {},
   "outputs": [
    {
     "name": "stdout",
     "output_type": "stream",
     "text": [
      "The CT scan that you have uploaded has detected : Covid +ve\n"
     ]
    }
   ],
   "source": [
    "def Testing(img):\n",
    "    img=cv2.cvtColor(img,cv2.COLOR_BGR2GRAY)\n",
    "    img=cv2.resize(img,(100,100))\n",
    "    img2=np.expand_dims(img,axis=0)\n",
    "    img2=img2.reshape((1,100,100,1))\n",
    "    predictions=model.predict(img2)\n",
    "    category_index=model.predict_classes(img2)\n",
    "    if(categories[category_index[0]]==\"CT_COVID\"):\n",
    "        pred=\"Covid +ve\"\n",
    "    else:\n",
    "        pred=\"Covid -ve\"\n",
    "    return pred\n",
    "result=Testing(Img)\n",
    "print(\"The CT scan that you have uploaded has detected : \"+result)"
   ]
  },
  {
   "cell_type": "code",
   "execution_count": null,
   "id": "157fd7c3",
   "metadata": {},
   "outputs": [],
   "source": []
  }
 ],
 "metadata": {
  "kernelspec": {
   "display_name": "Python 3",
   "language": "python",
   "name": "python3"
  },
  "language_info": {
   "codemirror_mode": {
    "name": "ipython",
    "version": 3
   },
   "file_extension": ".py",
   "mimetype": "text/x-python",
   "name": "python",
   "nbconvert_exporter": "python",
   "pygments_lexer": "ipython3",
   "version": "3.8.10"
  }
 },
 "nbformat": 4,
 "nbformat_minor": 5
}
